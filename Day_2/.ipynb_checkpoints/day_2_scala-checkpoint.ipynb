{
 "cells": [
  {
   "cell_type": "code",
   "execution_count": 1,
   "metadata": {},
   "outputs": [
    {
     "data": {
      "text/plain": [
       "Intitializing Scala interpreter ..."
      ]
     },
     "metadata": {},
     "output_type": "display_data"
    },
    {
     "data": {
      "text/plain": [
       "Spark Web UI available at http://192.168.0.28:4047\n",
       "SparkContext available as 'sc' (version = 3.0.1, master = local[*], app id = local-1606922813275)\n",
       "SparkSession available as 'spark'\n"
      ]
     },
     "metadata": {},
     "output_type": "display_data"
    },
    {
     "data": {
      "text/plain": [
       "import scala.io.Source\n"
      ]
     },
     "execution_count": 1,
     "metadata": {},
     "output_type": "execute_result"
    }
   ],
   "source": [
    "import scala.io.Source"
   ]
  },
  {
   "cell_type": "code",
   "execution_count": 7,
   "metadata": {},
   "outputs": [
    {
     "data": {
      "text/plain": [
       "data_string: List[String] = List(3-5 f: fgfff, 6-20 n: qlzsnnnndwnlhwnxhvjn, 6-7 j: jjjjjwrj, 8-10 g: gggggggggg, 5-6 t: ttttttft, 6-11 h: khmchszhmzm, 4-6 q: qqbjqqqj, 6-8 j: gtkwwjjj, 13-14 w: lwgwrwczwwhkww, 2-4 p: vcnptzdppvpdzp, 4-6 n: pmlnzwrnbnxnpmwmhbnz, 4-9 w: wwprdwwwx, 13-20 b: rbbcbbbbbbbbsbbbbbmj, 1-3 r: zwhrnvr, 4-6 f: fmfgfcf, 13-15 z: zxzzzzzzzzvxkplvzzz, 12-18 r: phjqccgmgzmdwxgtrtb, 5-19 s: ssssssssssssssssssss, 6-7 d: pddqmdd, 7-9 p: pwrlpvlhpfpppzp, 4-5 m: mpmmmm, 9-10 s: ssxsssssrj, 6-9 p: lpjrvpppp, 6-13 r: rrrzvtrgrhqxqrvrvwzr, 1-3 p: dpjp, 6-7 w: wkjnmww, 1-5 r: cfqhhr, 5-9 m: wmmlpgmqmmrm, 12-13 x: sxgnwxxkjwrxr, 6-8 n: lnnrnnnnn, 10-11 q: kqqqzqqfqqqqq, 12-17 k: kkkkkkkkkkpkkhgvnjhk, 12-13 v: vvvvvvvvvvvvvv, 12-15 h: hhhhhhhjkhhhhhth, 6-7 l: hmqtlllnllnlmtqnn, ...\n"
      ]
     },
     "execution_count": 7,
     "metadata": {},
     "output_type": "execute_result"
    }
   ],
   "source": [
    "val data_string = Source.fromFile(\"input_2.txt\").getLines.toList"
   ]
  },
  {
   "cell_type": "code",
   "execution_count": 73,
   "metadata": {},
   "outputs": [
    {
     "data": {
      "text/plain": [
       "data_split: List[Array[String]] = List(Array(3, 5, f, \"\", fgfff), Array(6, 20, n, \"\", qlzsnnnndwnlhwnxhvjn), Array(6, 7, j, \"\", jjjjjwrj), Array(8, 10, g, \"\", gggggggggg), Array(5, 6, t, \"\", ttttttft), Array(6, 11, h, \"\", khmchszhmzm), Array(4, 6, q, \"\", qqbjqqqj), Array(6, 8, j, \"\", gtkwwjjj), Array(13, 14, w, \"\", lwgwrwczwwhkww), Array(2, 4, p, \"\", vcnptzdppvpdzp), Array(4, 6, n, \"\", pmlnzwrnbnxnpmwmhbnz), Array(4, 9, w, \"\", wwprdwwwx), Array(13, 20, b, \"\", rbbcbbbbbbbbsbbbbbmj), Array(1, 3, r, \"\", zwhrnvr), Array(4, 6, f, \"\", fmfgfcf), Array(13, 15, z, \"\", zxzzzzzzzzvxkplvzzz), Array(12, 18, r, \"\", phjqccgmgzmdwxgtrtb), Array(5, 19, s, \"\", ssssssssssssssssssss), Array(6, 7, d, \"\", pddqmdd), Array(7, 9, p, \"\", pwrlpvlhpfpppzp), Array(4, 5, m, \"\", mpmmmm), Array(9, 10, s, \"\", ssxsssssr...\n"
      ]
     },
     "execution_count": 73,
     "metadata": {},
     "output_type": "execute_result"
    }
   ],
   "source": [
    "val data_split = data_string.map(_.split(\"[- :]\"))"
   ]
  },
  {
   "cell_type": "markdown",
   "metadata": {},
   "source": [
    "# Day 1"
   ]
  },
  {
   "cell_type": "code",
   "execution_count": 74,
   "metadata": {},
   "outputs": [
    {
     "data": {
      "text/plain": [
       "processed_data: List[List[Int]] = List(List(3, 5, 4), List(6, 20, 7), List(6, 7, 6), List(8, 10, 10), List(5, 6, 7), List(6, 11, 3), List(4, 6, 5), List(6, 8, 3), List(13, 14, 7), List(2, 4, 5), List(4, 6, 5), List(4, 9, 5), List(13, 20, 15), List(1, 3, 2), List(4, 6, 4), List(13, 15, 12), List(12, 18, 1), List(5, 19, 20), List(6, 7, 4), List(7, 9, 7), List(4, 5, 5), List(9, 10, 7), List(6, 9, 5), List(6, 13, 8), List(1, 3, 2), List(6, 7, 3), List(1, 5, 1), List(5, 9, 6), List(12, 13, 4), List(6, 8, 7), List(10, 11, 10), List(12, 17, 13), List(12, 13, 14), List(12, 15, 13), List(6, 7, 6), List(6, 9, 5), List(3, 5, 2), List(2, 4, 4), List(5, 6, 1), List(4, 11, 5), List(5, 10, 8), List(3, 4, 3), List(11, 14, 14), List(6, 7, 12), List(1, 4, 9), List(4, 5, 5), List(11, 12, 6), List(3, 6, 5)...\n"
      ]
     },
     "execution_count": 74,
     "metadata": {},
     "output_type": "execute_result"
    }
   ],
   "source": [
    "val processed_data = data_split.map(a => List(a(0).toInt,a(1).toInt,a(4).count(_ == a(2)(0))))"
   ]
  },
  {
   "cell_type": "code",
   "execution_count": 75,
   "metadata": {},
   "outputs": [
    {
     "data": {
      "text/plain": [
       "output: Int = 564\n"
      ]
     },
     "execution_count": 75,
     "metadata": {},
     "output_type": "execute_result"
    }
   ],
   "source": [
    "val output = processed_data.flatMap(x => if (x(0)<=x(2) & x(2)<=x(1)) Some(x) else None).length"
   ]
  },
  {
   "cell_type": "markdown",
   "metadata": {},
   "source": [
    "# Day 2"
   ]
  },
  {
   "cell_type": "code",
   "execution_count": 101,
   "metadata": {},
   "outputs": [
    {
     "data": {
      "text/plain": [
       "processed_data_2: Int = 325\n"
      ]
     },
     "execution_count": 101,
     "metadata": {},
     "output_type": "execute_result"
    }
   ],
   "source": [
    "val processed_data_2 = data_split.flatMap(a => if ((a(2)(0) == a(4)(a(0).toInt-1)) ^ (a(2)(0) == a(4)(a(1).toInt-1)) ) Some(a) else None).length"
   ]
  }
 ],
 "metadata": {
  "kernelspec": {
   "display_name": "spylon-kernel",
   "language": "scala",
   "name": "spylon-kernel"
  },
  "language_info": {
   "codemirror_mode": "text/x-scala",
   "file_extension": ".scala",
   "help_links": [
    {
     "text": "MetaKernel Magics",
     "url": "https://metakernel.readthedocs.io/en/latest/source/README.html"
    }
   ],
   "mimetype": "text/x-scala",
   "name": "scala",
   "pygments_lexer": "scala",
   "version": "0.4.1"
  }
 },
 "nbformat": 4,
 "nbformat_minor": 4
}
