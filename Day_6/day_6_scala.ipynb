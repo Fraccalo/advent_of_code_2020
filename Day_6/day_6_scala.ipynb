{
 "cells": [
  {
   "cell_type": "code",
   "execution_count": 2,
   "metadata": {},
   "outputs": [
    {
     "data": {
      "text/plain": [
       "import scala.io.Source\n"
      ]
     },
     "execution_count": 2,
     "metadata": {},
     "output_type": "execute_result"
    }
   ],
   "source": [
    "import scala.io.Source"
   ]
  },
  {
   "cell_type": "code",
   "execution_count": 17,
   "metadata": {},
   "outputs": [
    {
     "data": {
      "text/plain": [
       "data_input: String =\n",
       "\"syz\n",
       "cywjs\n",
       "jptzy\n",
       "pjkyr\n",
       "nhdbvyoqlxm\n",
       "\n",
       "sljgqfuvrkpzhbax\n",
       "balxvkgjquhzpsrf\n",
       "jghpasuerbfvlkxiz\n",
       "\n",
       "e\n",
       "phue\n",
       "eid\n",
       "ez\n",
       "\n",
       "igndfazbomyjkevwr\n",
       "bejkdvzmgnofirway\n",
       "afredowmyzgbnivjk\n",
       "\n",
       "jotunfx\n",
       "futnzbw\n",
       "etufn\n",
       "utznf\n",
       "fntu\n",
       "\n",
       "dsjwfhi\n",
       "dhfsvw\n",
       "wdfs\n",
       "fdkgsw\n",
       "wdvsf\n",
       "\n",
       "ijgowbynhxkcu\n",
       "amzpkdhyfesjuvt\n",
       "sqrjeyhluk\n",
       "\n",
       "j\n",
       "w\n",
       "j\n",
       "\n",
       "typfurv\n",
       "fzvytjurp\n",
       "\n",
       "hykudlvmcpsbxznojfgeiwt\n",
       "nscojvdpklgxbuiteyfmwhz\n",
       "etjnuicwbyzkfghvopdxslm\n",
       "bwijymcdnlfskphteougxzv\n",
       "\n",
       "pjhwa\n",
       "hwpj\n",
       "tpjdhw\n",
       "\n",
       "zvkyaju\n",
       "mcjygolzas\n",
       "aycjr\n",
       "qfwjypdabth\n",
       "yjacx\n",
       "\n",
       "kbxuaypqizegj\n",
       "qrdusglmiwzk\n",
       "wuirhkqtnzg\n",
       "\n",
       "tgxukmjqy\n",
       "kjgqutvpsny\n",
       "gtmukxqyj\n",
       "koyqjgtu\n",
       "joyugqtk\n",
       "\n",
       "pdbarxj\n",
       "obrd\n",
       "uwblcrdqehvz\n",
       "\n",
       "qyfgtumd\n",
       "qmyutgfz\n",
       "\n",
       "evcbwhr\n",
       "crxwevsyb\n",
       "ercbwvl\n",
       "\n",
       "mtzgbwydxpcnrefhiso\n",
       "hvaofetidsj\n",
       "ieqkuosthfd\n",
       "\n",
       "musaqnvctwokrb\n",
       "qbhcvswmnru\n",
       "csuqmwvnhbr\n",
       "\n",
       "idupje\n",
       "cue\n",
       "zuexbgyklofanmt\n",
       "\n",
       "niycgdemzftqohkxjvw\n",
       "epjmyoqvgwchzdkirntf\n",
       "vul...\n"
      ]
     },
     "execution_count": 17,
     "metadata": {},
     "output_type": "execute_result"
    }
   ],
   "source": [
    "val data_input = Source.fromFile(\"input_6.txt\").mkString"
   ]
  },
  {
   "cell_type": "code",
   "execution_count": 19,
   "metadata": {},
   "outputs": [
    {
     "data": {
      "text/plain": [
       "data: Array[String] =\n",
       "Array(syz\n",
       "cywjs\n",
       "jptzy\n",
       "pjkyr\n",
       "nhdbvyoqlxm, sljgqfuvrkpzhbax\n",
       "balxvkgjquhzpsrf\n",
       "jghpasuerbfvlkxiz, e\n",
       "phue\n",
       "eid\n",
       "ez, igndfazbomyjkevwr\n",
       "bejkdvzmgnofirway\n",
       "afredowmyzgbnivjk, jotunfx\n",
       "futnzbw\n",
       "etufn\n",
       "utznf\n",
       "fntu, dsjwfhi\n",
       "dhfsvw\n",
       "wdfs\n",
       "fdkgsw\n",
       "wdvsf, ijgowbynhxkcu\n",
       "amzpkdhyfesjuvt\n",
       "sqrjeyhluk, j\n",
       "w\n",
       "j, typfurv\n",
       "fzvytjurp, hykudlvmcpsbxznojfgeiwt\n",
       "nscojvdpklgxbuiteyfmwhz\n",
       "etjnuicwbyzkfghvopdxslm\n",
       "bwijymcdnlfskphteougxzv, pjhwa\n",
       "hwpj\n",
       "tpjdhw, zvkyaju\n",
       "mcjygolzas\n",
       "aycjr\n",
       "qfwjypdabth\n",
       "yjacx, kbxuaypqizegj\n",
       "qrdusglmiwzk\n",
       "wuirhkqtnzg, tgxukmjqy\n",
       "kjgqutvpsny\n",
       "gtmukxqyj\n",
       "koyqjgtu\n",
       "joyugqtk, pdbarxj\n",
       "obrd\n",
       "uwblcrdqehvz, qyfgtumd\n",
       "qmyutgfz, evcbwhr\n",
       "crxwevsyb\n",
       "ercbwvl, mtzgbwydxpcnrefhiso\n",
       "hvaofetidsj\n",
       "ieqkuosthfd, musaqnvctwokrb\n",
       "qbhcvswmnru\n",
       "csuqmwvnhbr, idupje\n",
       "cue\n",
       "zuexbgyklofanmt, niycgdemzftqohkxjvw\n",
       "epjmyoqvgwchzdkirn...\n"
      ]
     },
     "execution_count": 19,
     "metadata": {},
     "output_type": "execute_result"
    }
   ],
   "source": [
    "val data = data_input.split(\"\\n\\n\")"
   ]
  },
  {
   "cell_type": "markdown",
   "metadata": {},
   "source": [
    "# Part 1"
   ]
  },
  {
   "cell_type": "code",
   "execution_count": 38,
   "metadata": {},
   "outputs": [
    {
     "data": {
      "text/plain": [
       "m: scala.collection.immutable.Map[Char,String] =\n",
       "Map(\n",
       " -> \"\n",
       "\")\n"
      ]
     },
     "execution_count": 38,
     "metadata": {},
     "output_type": "execute_result"
    }
   ],
   "source": [
    "val m = Map('\\n' -> \"\\n\")"
   ]
  },
  {
   "cell_type": "code",
   "execution_count": 42,
   "metadata": {},
   "outputs": [
    {
     "data": {
      "text/plain": [
       "data_one_string: Array[String] = Array(syzcywjsjptzypjkyrnhdbvyoqlxm, sljgqfuvrkpzhbaxbalxvkgjquhzpsrfjghpasuerbfvlkxiz, ephueeidez, igndfazbomyjkevwrbejkdvzmgnofirwayafredowmyzgbnivjk, jotunfxfutnzbwetufnutznffntu, dsjwfhidhfsvwwdfsfdkgswwdvsf, ijgowbynhxkcuamzpkdhyfesjuvtsqrjeyhluk, jwj, typfurvfzvytjurp, hykudlvmcpsbxznojfgeiwtnscojvdpklgxbuiteyfmwhzetjnuicwbyzkfghvopdxslmbwijymcdnlfskphteougxzv, pjhwahwpjtpjdhw, zvkyajumcjygolzasaycjrqfwjypdabthyjacx, kbxuaypqizegjqrdusglmiwzkwuirhkqtnzg, tgxukmjqykjgqutvpsnygtmukxqyjkoyqjgtujoyugqtk, pdbarxjobrduwblcrdqehvz, qyfgtumdqmyutgfz, evcbwhrcrxwevsybercbwvl, mtzgbwydxpcnrefhisohvaofetidsjieqkuosthfd, musaqnvctwokrbqbhcvswmnrucsuqmwvnhbr, idupjecuezuexbgyklofanmt, niycgdemzftqohkxjvwepjmyoqvgwchzdkirntfvultgkmocbfqnzsijwye, rqhwmocnmudblste...\n"
      ]
     },
     "execution_count": 42,
     "metadata": {},
     "output_type": "execute_result"
    }
   ],
   "source": [
    "val data_one_string = data.map(_.filterNot(m.contains))"
   ]
  },
  {
   "cell_type": "code",
   "execution_count": 47,
   "metadata": {},
   "outputs": [
    {
     "data": {
      "text/plain": [
       "res26: Int = 6748\n"
      ]
     },
     "execution_count": 47,
     "metadata": {},
     "output_type": "execute_result"
    }
   ],
   "source": [
    "data_one_string.map(_.distinct.length).sum"
   ]
  },
  {
   "cell_type": "markdown",
   "metadata": {},
   "source": [
    "# Part 2"
   ]
  },
  {
   "cell_type": "code",
   "execution_count": 52,
   "metadata": {},
   "outputs": [
    {
     "data": {
      "text/plain": [
       "data_array: Array[Array[String]] = Array(Array(syz, cywjs, jptzy, pjkyr, nhdbvyoqlxm), Array(sljgqfuvrkpzhbax, balxvkgjquhzpsrf, jghpasuerbfvlkxiz), Array(e, phue, eid, ez), Array(igndfazbomyjkevwr, bejkdvzmgnofirway, afredowmyzgbnivjk), Array(jotunfx, futnzbw, etufn, utznf, fntu), Array(dsjwfhi, dhfsvw, wdfs, fdkgsw, wdvsf), Array(ijgowbynhxkcu, amzpkdhyfesjuvt, sqrjeyhluk), Array(j, w, j), Array(typfurv, fzvytjurp), Array(hykudlvmcpsbxznojfgeiwt, nscojvdpklgxbuiteyfmwhz, etjnuicwbyzkfghvopdxslm, bwijymcdnlfskphteougxzv), Array(pjhwa, hwpj, tpjdhw), Array(zvkyaju, mcjygolzas, aycjr, qfwjypdabth, yjacx), Array(kbxuaypqizegj, qrdusglmiwzk, wuirhkqtnzg), Array(tgxukmjqy, kjgqutvpsny, gtmukxqyj, koyqjgtu, joyugqtk), Array(pdbarxj, obrd, uwblcrdqehvz), Array(qyfgtumd, qmyutgfz), Array(evcbw...\n"
      ]
     },
     "execution_count": 52,
     "metadata": {},
     "output_type": "execute_result"
    }
   ],
   "source": [
    "val data_array = data.map(_.split(\"\\n\"))"
   ]
  },
  {
   "cell_type": "code",
   "execution_count": 67,
   "metadata": {},
   "outputs": [
    {
     "data": {
      "text/plain": [
       "res44: Int = 3445\n"
      ]
     },
     "execution_count": 67,
     "metadata": {},
     "output_type": "execute_result"
    }
   ],
   "source": [
    "data_array.map(_.reduce(_.intersect(_)).length).sum"
   ]
  }
 ],
 "metadata": {
  "kernelspec": {
   "display_name": "spylon-kernel",
   "language": "scala",
   "name": "spylon-kernel"
  },
  "language_info": {
   "codemirror_mode": "text/x-scala",
   "file_extension": ".scala",
   "help_links": [
    {
     "text": "MetaKernel Magics",
     "url": "https://metakernel.readthedocs.io/en/latest/source/README.html"
    }
   ],
   "mimetype": "text/x-scala",
   "name": "scala",
   "pygments_lexer": "scala",
   "version": "0.4.1"
  }
 },
 "nbformat": 4,
 "nbformat_minor": 4
}
