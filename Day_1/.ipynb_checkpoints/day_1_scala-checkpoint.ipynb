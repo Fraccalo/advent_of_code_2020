{
 "cells": [
  {
   "cell_type": "code",
   "execution_count": 35,
   "metadata": {},
   "outputs": [
    {
     "data": {
      "text/plain": [
       "import scala.io.Source\n"
      ]
     },
     "execution_count": 35,
     "metadata": {},
     "output_type": "execute_result"
    }
   ],
   "source": [
    "import scala.io.Source"
   ]
  },
  {
   "cell_type": "code",
   "execution_count": 36,
   "metadata": {},
   "outputs": [
    {
     "data": {
      "text/plain": [
       "data_string: List[String] = List(1732, 1972, 1822, 1920, 1847, 1718, 1827, 1973, 1936, 1865, 1817, 1954, 1939, 1979, 1846, 1989, 1818, 398, 1786, 1900, 1949, 1161, 609, 1967, 1845, 1795, 1874, 1982, 2010, 1494, 1752, 1803, 1908, 1876, 1977, 1999, 1858, 1885, 1975, 1878, 1784, 1787, 1765, 1778, 1893, 1746, 1807, 1966, 1991, 1905, 1970, 1942, 1792, 1750, 713, 1871, 1860, 1931, 1976, 1771, 128, 390, 2006, 1801, 1946, 1914, 1833, 1515, 1958, 1737, 1887, 1962, 1895, 2004, 1747, 1841, 1793, 1948, 1790, 1808, 1957, 1770, 1960, 1952, 1932, 1782, 1762, 1898, 1919, 1909, 1929, 1964, 1848, 1959, 1381, 280, 1899, 1855, 1849, 1889, 1772, 1843, 1767, 1830, 1838, 1869, 1926, 1768, 1789, 1791, 1888, 1371, 2001, 1943, 1741, 1904, 1468, 1969, 1910, 649, 1953, 1916, 1852, 1996, 1842, 1950, 1850, 1998, 196...\n"
      ]
     },
     "execution_count": 36,
     "metadata": {},
     "output_type": "execute_result"
    }
   ],
   "source": [
    "val data_string = Source.fromFile(\"input_1.txt\").getLines.toList"
   ]
  },
  {
   "cell_type": "code",
   "execution_count": 37,
   "metadata": {},
   "outputs": [
    {
     "data": {
      "text/plain": [
       "data: List[Int] = List(1732, 1972, 1822, 1920, 1847, 1718, 1827, 1973, 1936, 1865, 1817, 1954, 1939, 1979, 1846, 1989, 1818, 398, 1786, 1900, 1949, 1161, 609, 1967, 1845, 1795, 1874, 1982, 2010, 1494, 1752, 1803, 1908, 1876, 1977, 1999, 1858, 1885, 1975, 1878, 1784, 1787, 1765, 1778, 1893, 1746, 1807, 1966, 1991, 1905, 1970, 1942, 1792, 1750, 713, 1871, 1860, 1931, 1976, 1771, 128, 390, 2006, 1801, 1946, 1914, 1833, 1515, 1958, 1737, 1887, 1962, 1895, 2004, 1747, 1841, 1793, 1948, 1790, 1808, 1957, 1770, 1960, 1952, 1932, 1782, 1762, 1898, 1919, 1909, 1929, 1964, 1848, 1959, 1381, 280, 1899, 1855, 1849, 1889, 1772, 1843, 1767, 1830, 1838, 1869, 1926, 1768, 1789, 1791, 1888, 1371, 2001, 1943, 1741, 1904, 1468, 1969, 1910, 649, 1953, 1916, 1852, 1996, 1842, 1950, 1850, 1998, 1963, 1780, 1...\n"
      ]
     },
     "execution_count": 37,
     "metadata": {},
     "output_type": "execute_result"
    }
   ],
   "source": [
    "val data = data_string.map(_.toString.toInt)"
   ]
  },
  {
   "cell_type": "markdown",
   "metadata": {},
   "source": [
    "# Part 1"
   ]
  },
  {
   "cell_type": "code",
   "execution_count": 43,
   "metadata": {},
   "outputs": [
    {
     "data": {
      "text/plain": [
       "year: Int = 2020\n"
      ]
     },
     "execution_count": 43,
     "metadata": {},
     "output_type": "execute_result"
    }
   ],
   "source": [
    "val year = 2020"
   ]
  },
  {
   "cell_type": "code",
   "execution_count": 97,
   "metadata": {},
   "outputs": [
    {
     "data": {
      "text/plain": [
       "output: Int = 889779\n"
      ]
     },
     "execution_count": 97,
     "metadata": {},
     "output_type": "execute_result"
    }
   ],
   "source": [
    "val output = data.map(x => if (data.contains(year - x)) x else 1).product"
   ]
  },
  {
   "cell_type": "code",
   "execution_count": 99,
   "metadata": {},
   "outputs": [
    {
     "data": {
      "text/plain": [
       "output: Int = 889779\n"
      ]
     },
     "execution_count": 99,
     "metadata": {},
     "output_type": "execute_result"
    }
   ],
   "source": [
    "// ignore the None outputs in the final list\n",
    "val output = data.flatMap(x => if (data.contains(year - x)) Some(x) else None).product"
   ]
  },
  {
   "cell_type": "markdown",
   "metadata": {},
   "source": [
    "# Part 2"
   ]
  },
  {
   "cell_type": "code",
   "execution_count": 143,
   "metadata": {},
   "outputs": [
    {
     "data": {
      "text/plain": [
       "output: Iterator[List[Int]] = <iterator>\n"
      ]
     },
     "execution_count": 143,
     "metadata": {},
     "output_type": "execute_result"
    }
   ],
   "source": [
    "val output = data.combinations(3).flatMap(x => if (year - x.sum==0) Some(x) else None)"
   ]
  },
  {
   "cell_type": "code",
   "execution_count": 144,
   "metadata": {},
   "outputs": [
    {
     "data": {
      "text/plain": [
       "res66: Int = 76110336\n"
      ]
     },
     "execution_count": 144,
     "metadata": {},
     "output_type": "execute_result"
    }
   ],
   "source": [
    "output.next().product"
   ]
  },
  {
   "cell_type": "code",
   "execution_count": null,
   "metadata": {},
   "outputs": [],
   "source": []
  }
 ],
 "metadata": {
  "kernelspec": {
   "display_name": "spylon-kernel",
   "language": "scala",
   "name": "spylon-kernel"
  },
  "language_info": {
   "codemirror_mode": "text/x-scala",
   "file_extension": ".scala",
   "help_links": [
    {
     "text": "MetaKernel Magics",
     "url": "https://metakernel.readthedocs.io/en/latest/source/README.html"
    }
   ],
   "mimetype": "text/x-scala",
   "name": "scala",
   "pygments_lexer": "scala",
   "version": "0.4.1"
  }
 },
 "nbformat": 4,
 "nbformat_minor": 4
}
