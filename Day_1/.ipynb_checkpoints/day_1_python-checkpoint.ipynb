{
 "cells": [
  {
   "cell_type": "code",
   "execution_count": 1,
   "metadata": {},
   "outputs": [],
   "source": [
    "input_list = [1721, 979, 366, 299, 675, 1456]"
   ]
  },
  {
   "cell_type": "code",
   "execution_count": 2,
   "metadata": {},
   "outputs": [],
   "source": [
    "input_list = [1732, 1972, 1822, 1920, 1847, 1718, 1827, 1973, 1936, 1865, 1817, \\\n",
    "1954, 1939, 1979, 1846, 1989, 1818, 398, 1786, 1900, 1949, 1161, 609, \\\n",
    "1967, 1845, 1795, 1874, 1982, 2010, 1494, 1752, 1803, 1908, 1876, \\\n",
    "1977, 1999, 1858, 1885, 1975, 1878, 1784, 1787, 1765, 1778, 1893, \\\n",
    "1746, 1807, 1966, 1991, 1905, 1970, 1942, 1792, 1750, 713, 1871, \\\n",
    "1860, 1931, 1976, 1771, 128, 390, 2006, 1801, 1946, 1914, 1833, 1515, \\\n",
    "1958, 1737, 1887, 1962, 1895, 2004, 1747, 1841, 1793, 1948, 1790, \\\n",
    "1808, 1957, 1770, 1960, 1952, 1932, 1782, 1762, 1898, 1919, 1909, \\\n",
    "1929, 1964, 1848, 1959, 1381, 280, 1899, 1855, 1849, 1889, 1772, \\\n",
    "1843, 1767, 1830, 1838, 1869, 1926, 1768, 1789, 1791, 1888, 1371, \\\n",
    "2001, 1943, 1741, 1904, 1468, 1969, 1910, 649, 1953, 1916, 1852, \\\n",
    "1996, 1842, 1950, 1850, 1998, 1963, 1780, 1883, 1955, 443, 1773, \\\n",
    "1896, 1985, 1809, 2007, 1819, 1891, 1853, 1802, 1861, 1813, 1831, \\\n",
    "1974, 1915, 1997, 2000, 1945, 1832, 1763, 1981, 1922, 1862, 1944, \\\n",
    "1925, 1742, 1744, 1994, 1961, 1881, 1937, 1911, 1788, 1971, 1890, \\\n",
    "1734, 1781, 1984, 1912, 1834, 1766, 1769, 1797, 195, 1965, 1934, \\\n",
    "1894, 1928, 1759, 1812, 1758, 1988, 1821, 1776, 2009, 1749, 1857, \\\n",
    "1785, 1824, 1796, 1930, 1777, 1886, 477, 1761, 1800, 1745, 1993]"
   ]
  },
  {
   "cell_type": "code",
   "execution_count": 3,
   "metadata": {},
   "outputs": [],
   "source": [
    "from functools import reduce\n",
    "from itertools import combinations\n",
    "from timeit import timeit\n",
    "import time"
   ]
  },
  {
   "cell_type": "code",
   "execution_count": 6,
   "metadata": {},
   "outputs": [
    {
     "data": {
      "text/plain": [
       "889779"
      ]
     },
     "execution_count": 6,
     "metadata": {},
     "output_type": "execute_result"
    }
   ],
   "source": [
    "# point 1\n",
    "reduce(lambda x,y: x*y,[[x,y] for x,y in combinations(input_list,2) if x+y==2020][0])"
   ]
  },
  {
   "cell_type": "code",
   "execution_count": 5,
   "metadata": {},
   "outputs": [
    {
     "data": {
      "text/plain": [
       "76110336"
      ]
     },
     "execution_count": 5,
     "metadata": {},
     "output_type": "execute_result"
    }
   ],
   "source": [
    "# point 2\n",
    "reduce(lambda x,y: x*y,[[x,y,z] for x,y,z in combinations(input_list,3) if x+y+z==2020][0])"
   ]
  },
  {
   "cell_type": "code",
   "execution_count": 30,
   "metadata": {},
   "outputs": [
    {
     "data": {
      "text/plain": [
       "[[398, 1494, 128]]"
      ]
     },
     "execution_count": 30,
     "metadata": {},
     "output_type": "execute_result"
    }
   ],
   "source": [
    "[[x,y,z] for x,y,z in combinations(input_list,3) if x+y+z==2020]"
   ]
  },
  {
   "cell_type": "code",
   "execution_count": 7,
   "metadata": {},
   "outputs": [
    {
     "data": {
      "text/plain": [
       "0.1191549301147461"
      ]
     },
     "execution_count": 7,
     "metadata": {},
     "output_type": "execute_result"
    }
   ],
   "source": [
    "t_start = time.time()\n",
    "reduce(lambda x,y: x*y,[[x,xexey,z] for x,y,z in combinations(input_list,3) if x+y+z==2020][0])\n",
    "t_end = time.time()\n",
    "t_end-t_start"
   ]
  }
 ],
 "metadata": {
  "kernelspec": {
   "display_name": "Python 3",
   "language": "python",
   "name": "python3"
  },
  "language_info": {
   "codemirror_mode": {
    "name": "ipython",
    "version": 3
   },
   "file_extension": ".py",
   "mimetype": "text/x-python",
   "name": "python",
   "nbconvert_exporter": "python",
   "pygments_lexer": "ipython3",
   "version": "3.8.3"
  }
 },
 "nbformat": 4,
 "nbformat_minor": 4
}
