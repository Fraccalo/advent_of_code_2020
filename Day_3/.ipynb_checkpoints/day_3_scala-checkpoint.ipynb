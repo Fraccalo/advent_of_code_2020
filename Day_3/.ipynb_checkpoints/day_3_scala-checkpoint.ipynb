{
 "cells": [
  {
   "cell_type": "code",
   "execution_count": 2,
   "metadata": {},
   "outputs": [
    {
     "data": {
      "text/plain": [
       "import scala.io.Source\n"
      ]
     },
     "execution_count": 2,
     "metadata": {},
     "output_type": "execute_result"
    }
   ],
   "source": [
    "import scala.io.Source"
   ]
  },
  {
   "cell_type": "code",
   "execution_count": 7,
   "metadata": {},
   "outputs": [
    {
     "data": {
      "text/plain": [
       "data_string: List[String] = List(....#...#####..##.#..##..#....#, ..##.#.#.........#.#......##..., #.#.#.##.##...#.......#...#..#., ..##.............#.#.##.....#.., ##......#.............#....#..., .....##..#.....##.#.......##..#, .##.....#........##...##.#....#, .##......#.#......#.....#..##.#, ##....#..#...#...#...##.#...##., ##........##.#...##......#.#.#., ..#.#........#...##.....#.....#, ..#.......####.#....#..#####..., .##..#..#..##.#.....###.#..#..., ......###..##.....#.#.#..###.#., ..#.#...#..##.....#....#.#....., .....#.#...#.###.#..#.........., ##.....#...#.#....#..#.#......., ..#...#...#.........##......#.., ......#.#...#...#..#...##.#...#, ....#.................##.##...., ...#......#.............#....##, ##..#..#..........#...##.#.#..., ....#...##....#..#.#..........., ##.#....\n"
      ]
     },
     "execution_count": 7,
     "metadata": {},
     "output_type": "execute_result"
    }
   ],
   "source": [
    "val data_string = Source.fromFile(\"input_3.txt\").getLines.toList"
   ]
  },
  {
   "cell_type": "markdown",
   "metadata": {},
   "source": [
    "# Part 1"
   ]
  },
  {
   "cell_type": "code",
   "execution_count": 19,
   "metadata": {},
   "outputs": [
    {
     "data": {
      "text/plain": [
       "l: Int = 31\n",
       "h: Int = 323\n"
      ]
     },
     "execution_count": 19,
     "metadata": {},
     "output_type": "execute_result"
    }
   ],
   "source": [
    "val (l,h) = (data_string(0).length,data_string.length)"
   ]
  },
  {
   "cell_type": "code",
   "execution_count": 92,
   "metadata": {},
   "outputs": [
    {
     "data": {
      "text/plain": [
       "filtered: List[(String, Int)] = List((..##.#.#.........#.#......##...,1), (#.#.#.##.##...#.......#...#..#.,2), (.....##..#.....##.#.......##..#,5), (.##.....#........##...##.#....#,6), (##....#..#...#...#...##.#...##.,8), (##........##.#...##......#.#.#.,9), (..#.#........#...##.....#.....#,10), (..#.......####.#....#..#####...,11), (.##..#..#..##.#.....###.#..#...,12), (......###..##.....#.#.#..###.#.,13), (..#.#...#..##.....#....#.#.....,14), (.....#.#...#.###.#..#..........,15), (..#...#...#.........##......#..,17), (......#.#...#...#..#...##.#...#,18), (....#.................##.##....,19), (...#......#.............#....##,20), (##..#..#..........#...##.#.#...,21), (....#...##....#..#.#...........,22), (##.#.#.#...#....#........#..#.#,23), (..##.......###.#......##.##....,25), (..#.....\n"
      ]
     },
     "execution_count": 92,
     "metadata": {},
     "output_type": "execute_result"
    }
   ],
   "source": [
    "val filtered = data_string.zipWithIndex.filter {\n",
    "    case (a,b) if a(3*b%l)=='#' => true\n",
    "    case _ => false\n",
    "}"
   ]
  },
  {
   "cell_type": "code",
   "execution_count": 93,
   "metadata": {},
   "outputs": [
    {
     "data": {
      "text/plain": [
       "res72: Int = 244\n"
      ]
     },
     "execution_count": 93,
     "metadata": {},
     "output_type": "execute_result"
    }
   ],
   "source": [
    "filtered.length"
   ]
  },
  {
   "cell_type": "markdown",
   "metadata": {},
   "source": [
    "# Part 2"
   ]
  },
  {
   "cell_type": "code",
   "execution_count": 133,
   "metadata": {},
   "outputs": [
    {
     "data": {
      "text/plain": [
       "trees: List[Int] = List(90, 244, 97, 92, 48)\n"
      ]
     },
     "execution_count": 133,
     "metadata": {},
     "output_type": "execute_result"
    }
   ],
   "source": [
    "val trees = for ((i,j) <- List((1,1),(3,1),(5,1),(7,1),(1,2)) ) yield {\n",
    "\n",
    "    data_string.zipWithIndex.filter {\n",
    "        case (a,b) if (b%j==0 & a((i*b/j)%l)=='#') => true\n",
    "        case _ => false\n",
    "    }.length\n",
    "}"
   ]
  },
  {
   "cell_type": "code",
   "execution_count": 138,
   "metadata": {},
   "outputs": [
    {
     "data": {
      "text/plain": [
       "res109: Long = 9406609920\n"
      ]
     },
     "execution_count": 138,
     "metadata": {},
     "output_type": "execute_result"
    }
   ],
   "source": [
    "trees.map(_.toLong).reduce(_*_)"
   ]
  },
  {
   "cell_type": "code",
   "execution_count": null,
   "metadata": {},
   "outputs": [],
   "source": []
  }
 ],
 "metadata": {
  "kernelspec": {
   "display_name": "spylon-kernel",
   "language": "scala",
   "name": "spylon-kernel"
  },
  "language_info": {
   "codemirror_mode": "text/x-scala",
   "file_extension": ".scala",
   "help_links": [
    {
     "text": "MetaKernel Magics",
     "url": "https://metakernel.readthedocs.io/en/latest/source/README.html"
    }
   ],
   "mimetype": "text/x-scala",
   "name": "scala",
   "pygments_lexer": "scala",
   "version": "0.4.1"
  }
 },
 "nbformat": 4,
 "nbformat_minor": 4
}
