{
 "cells": [
  {
   "cell_type": "code",
   "execution_count": 267,
   "metadata": {},
   "outputs": [],
   "source": [
    "input_list = '''.#.\n",
    "..#\n",
    "###'''"
   ]
  },
  {
   "cell_type": "code",
   "execution_count": 268,
   "metadata": {},
   "outputs": [],
   "source": [
    "input_list = '''...#.#.#\n",
    "..#..#..\n",
    "#.#.##.#\n",
    "###.##..\n",
    "#####.##\n",
    "#.......\n",
    "#..#..##\n",
    "...##.##'''"
   ]
  },
  {
   "cell_type": "code",
   "execution_count": 269,
   "metadata": {},
   "outputs": [],
   "source": [
    "import numpy as np"
   ]
  },
  {
   "cell_type": "code",
   "execution_count": 270,
   "metadata": {},
   "outputs": [],
   "source": [
    "data = np.array([[[int(i) for i in j] for j in input_list.replace('.','0').replace('#','1').split('\\n')]])"
   ]
  },
  {
   "cell_type": "code",
   "execution_count": 271,
   "metadata": {},
   "outputs": [],
   "source": [
    "steps = 6\n",
    "npad = ((steps,steps))\n",
    "arr = np.pad(data, pad_width=npad)"
   ]
  },
  {
   "cell_type": "markdown",
   "metadata": {},
   "source": [
    "# Part 1"
   ]
  },
  {
   "cell_type": "code",
   "execution_count": 272,
   "metadata": {},
   "outputs": [],
   "source": [
    "from scipy.signal import fftconvolve"
   ]
  },
  {
   "cell_type": "code",
   "execution_count": 273,
   "metadata": {},
   "outputs": [],
   "source": [
    "def evolve(l):\n",
    "   \n",
    "    t = np.round(fftconvolve(l,np.array([[[1,1,1],[1,1,1],[1,1,1]],[[1,1,1],[1,0,1],[1,1,1]],[[1,1,1],[1,1,1],[1,1,1]]])))[1:-1,1:-1,1:-1]\n",
    "    \n",
    "    mask1 = np.logical_or(t==2,t==3)\n",
    "    mask2 = t==3\n",
    "    \n",
    "    t1 = np.logical_and(l,mask1)\n",
    "    t2 = np.logical_and(np.logical_not(l),mask2)\n",
    "    \n",
    "    return np.logical_or(t1,t2)\n",
    "#     return t2"
   ]
  },
  {
   "cell_type": "code",
   "execution_count": 274,
   "metadata": {},
   "outputs": [],
   "source": [
    "temp = arr\n",
    "\n",
    "for i in range(6):\n",
    "    temp = evolve(temp)"
   ]
  },
  {
   "cell_type": "code",
   "execution_count": 275,
   "metadata": {},
   "outputs": [
    {
     "data": {
      "text/plain": [
       "346"
      ]
     },
     "execution_count": 275,
     "metadata": {},
     "output_type": "execute_result"
    }
   ],
   "source": [
    "np.count_nonzero(temp)"
   ]
  },
  {
   "cell_type": "markdown",
   "metadata": {},
   "source": [
    "# Part 2"
   ]
  },
  {
   "cell_type": "code",
   "execution_count": 276,
   "metadata": {},
   "outputs": [],
   "source": [
    "steps = 6\n",
    "npad4D = ((steps,steps))\n",
    "arr4D = np.pad(np.array([data]), pad_width=npad4D)"
   ]
  },
  {
   "cell_type": "code",
   "execution_count": 277,
   "metadata": {},
   "outputs": [],
   "source": [
    "def evolve4D(l):\n",
    "   \n",
    "    t = np.round(fftconvolve(l,np.array([[[[1,1,1],[1,1,1],[1,1,1]],[[1,1,1],[1,1,1],[1,1,1]],[[1,1,1],[1,1,1],[1,1,1]]],[[[1,1,1],[1,1,1],[1,1,1]],[[1,1,1],[1,0,1],[1,1,1]],[[1,1,1],[1,1,1],[1,1,1]]],[[[1,1,1],[1,1,1],[1,1,1]],[[1,1,1],[1,1,1],[1,1,1]],[[1,1,1],[1,1,1],[1,1,1]]]])))[1:-1,1:-1,1:-1,1:-1]\n",
    "    \n",
    "    mask1 = np.logical_or(t==2,t==3)\n",
    "    mask2 = t==3\n",
    "    \n",
    "    t1 = np.logical_and(l,mask1)\n",
    "    t2 = np.logical_and(np.logical_not(l),mask2)\n",
    "    \n",
    "    return np.logical_or(t1,t2)\n",
    "#     return t2"
   ]
  },
  {
   "cell_type": "code",
   "execution_count": 278,
   "metadata": {},
   "outputs": [],
   "source": [
    "temp = arr4D\n",
    "\n",
    "for i in range(6):\n",
    "    temp = evolve4D(temp)"
   ]
  },
  {
   "cell_type": "code",
   "execution_count": 279,
   "metadata": {},
   "outputs": [
    {
     "data": {
      "text/plain": [
       "1632"
      ]
     },
     "execution_count": 279,
     "metadata": {},
     "output_type": "execute_result"
    }
   ],
   "source": [
    "np.count_nonzero(temp)"
   ]
  }
 ],
 "metadata": {
  "kernelspec": {
   "display_name": "Python 3",
   "language": "python",
   "name": "python3"
  },
  "language_info": {
   "codemirror_mode": {
    "name": "ipython",
    "version": 3
   },
   "file_extension": ".py",
   "mimetype": "text/x-python",
   "name": "python",
   "nbconvert_exporter": "python",
   "pygments_lexer": "ipython3",
   "version": "3.8.3"
  }
 },
 "nbformat": 4,
 "nbformat_minor": 4
}
