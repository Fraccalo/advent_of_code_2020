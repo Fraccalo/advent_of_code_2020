{
 "cells": [
  {
   "cell_type": "code",
   "execution_count": 123,
   "metadata": {},
   "outputs": [
    {
     "data": {
      "text/plain": [
       "import scala.io.Source\n"
      ]
     },
     "execution_count": 123,
     "metadata": {},
     "output_type": "execute_result"
    }
   ],
   "source": [
    "import scala.io.Source"
   ]
  },
  {
   "cell_type": "code",
   "execution_count": 158,
   "metadata": {},
   "outputs": [
    {
     "data": {
      "text/plain": [
       "data_string: String =\n",
       "\"iyr:1928 cid:150 pid:476113241 eyr:2039 hcl:a5ac0f\n",
       "ecl:#25f8d2\n",
       "byr:2027 hgt:190\n",
       "\n",
       "hgt:168cm eyr:2026 ecl:hzl hcl:#fffffd cid:169 pid:920076943\n",
       "byr:1929 iyr:2013\n",
       "\n",
       "hgt:156cm ecl:brn eyr:2023\n",
       "iyr:2011\n",
       "hcl:#6b5442 pid:328412891 byr:1948\n",
       "\n",
       "byr:1950 iyr:2019 eyr:2020 ecl:amb cid:279 pid:674907993 hgt:189cm hcl:#602927\n",
       "\n",
       "byr:1976\n",
       "ecl:hzl iyr:2015 hgt:178cm eyr:2022 hcl:#341e13\n",
       "pid:473630095\n",
       "\n",
       "iyr:2020 eyr:2023 ecl:blu byr:1984\n",
       "hgt:163cm hcl:#866857 pid:628113926\n",
       "\n",
       "ecl:amb\n",
       "pid:312508073\n",
       "hgt:70in byr:1922 iyr:2019 eyr:2030 hcl:#866857\n",
       "\n",
       "hcl:#007d7c pid:195125455 cid:213 hgt:154cm eyr:2021 ecl:grn byr:1981\n",
       "\n",
       "ecl:oth hgt:185cm pid:958027833 hcl:#b6652a iyr:2028 cid:171\n",
       "eyr:1994\n",
       "\n",
       "ecl:hzl byr:1982 hcl:#fffffd hgt:188cm iyr:2018 pid:039931872 cid:288 eyr:2025\n",
       "\n",
       "cid:71 iyr:2012 byr:1950...\n"
      ]
     },
     "execution_count": 158,
     "metadata": {},
     "output_type": "execute_result"
    }
   ],
   "source": [
    "// val data_string = Source.fromFile(\"input_4.txt\").getLines.toList\n",
    "val data_string = Source.fromFile(\"input_4.txt\").mkString"
   ]
  },
  {
   "cell_type": "code",
   "execution_count": 162,
   "metadata": {},
   "outputs": [
    {
     "data": {
      "text/plain": [
       "data_1: Array[String] =\n",
       "Array(iyr:1928 cid:150 pid:476113241 eyr:2039 hcl:a5ac0f\n",
       "ecl:#25f8d2\n",
       "byr:2027 hgt:190, hgt:168cm eyr:2026 ecl:hzl hcl:#fffffd cid:169 pid:920076943\n",
       "byr:1929 iyr:2013, hgt:156cm ecl:brn eyr:2023\n",
       "iyr:2011\n",
       "hcl:#6b5442 pid:328412891 byr:1948, byr:1950 iyr:2019 eyr:2020 ecl:amb cid:279 pid:674907993 hgt:189cm hcl:#602927, byr:1976\n",
       "ecl:hzl iyr:2015 hgt:178cm eyr:2022 hcl:#341e13\n",
       "pid:473630095, iyr:2020 eyr:2023 ecl:blu byr:1984\n",
       "hgt:163cm hcl:#866857 pid:628113926, ecl:amb\n",
       "pid:312508073\n",
       "hgt:70in byr:1922 iyr:2019 eyr:2030 hcl:#866857, hcl:#007d7c pid:195125455 cid:213 hgt:154cm eyr:2021 ecl:grn byr:1981, ecl:oth hgt:185cm pid:958027833 hcl:#b6652a iyr:2028 cid:171\n",
       "eyr:1994, ecl:hzl byr:1982 hcl:#fffffd hgt:188cm iyr:2018 pid:039931872 cid:288 eyr:2025, cid:71 iyr:2012 b...\n"
      ]
     },
     "execution_count": 162,
     "metadata": {},
     "output_type": "execute_result"
    }
   ],
   "source": [
    "val data_1 = data_string.split(\"\\n\\n\")"
   ]
  },
  {
   "cell_type": "code",
   "execution_count": 168,
   "metadata": {},
   "outputs": [
    {
     "data": {
      "text/plain": [
       "data: Array[Array[String]] = Array(Array(iyr, 1928, cid, 150, pid, 476113241, eyr, 2039, hcl, a5ac0f, ecl, #25f8d2, byr, 2027, hgt, 190), Array(hgt, 168cm, eyr, 2026, ecl, hzl, hcl, #fffffd, cid, 169, pid, 920076943, byr, 1929, iyr, 2013), Array(hgt, 156cm, ecl, brn, eyr, 2023, iyr, 2011, hcl, #6b5442, pid, 328412891, byr, 1948), Array(byr, 1950, iyr, 2019, eyr, 2020, ecl, amb, cid, 279, pid, 674907993, hgt, 189cm, hcl, #602927), Array(byr, 1976, ecl, hzl, iyr, 2015, hgt, 178cm, eyr, 2022, hcl, #341e13, pid, 473630095), Array(iyr, 2020, eyr, 2023, ecl, blu, byr, 1984, hgt, 163cm, hcl, #866857, pid, 628113926), Array(ecl, amb, pid, 312508073, hgt, 70in, byr, 1922, iyr, 2019, eyr, 2030, hcl, #866857), Array(hcl, #007d7c, pid, 195125455, cid, 213, hgt, 154cm, eyr, 2021, ecl, grn, byr, 1981...\n"
      ]
     },
     "execution_count": 168,
     "metadata": {},
     "output_type": "execute_result"
    }
   ],
   "source": [
    "val data = data_1.map(_.split(\"[: \\n]\"))"
   ]
  },
  {
   "cell_type": "markdown",
   "metadata": {},
   "source": [
    "# Part 1"
   ]
  },
  {
   "cell_type": "code",
   "execution_count": 206,
   "metadata": {},
   "outputs": [
    {
     "data": {
      "text/plain": [
       "filtered: Array[Array[String]] = Array(Array(iyr, 1928, cid, 150, pid, 476113241, eyr, 2039, hcl, a5ac0f, ecl, #25f8d2, byr, 2027, hgt, 190), Array(hgt, 168cm, eyr, 2026, ecl, hzl, hcl, #fffffd, cid, 169, pid, 920076943, byr, 1929, iyr, 2013), Array(hgt, 156cm, ecl, brn, eyr, 2023, iyr, 2011, hcl, #6b5442, pid, 328412891, byr, 1948), Array(byr, 1950, iyr, 2019, eyr, 2020, ecl, amb, cid, 279, pid, 674907993, hgt, 189cm, hcl, #602927), Array(byr, 1976, ecl, hzl, iyr, 2015, hgt, 178cm, eyr, 2022, hcl, #341e13, pid, 473630095), Array(iyr, 2020, eyr, 2023, ecl, blu, byr, 1984, hgt, 163cm, hcl, #866857, pid, 628113926), Array(ecl, amb, pid, 312508073, hgt, 70in, byr, 1922, iyr, 2019, eyr, 2030, hcl, #866857), Array(ecl, hzl, byr, 1982, hcl, #fffffd, hgt, 188cm, iyr, 2018, pid, 039931872, cid,...\n"
      ]
     },
     "execution_count": 206,
     "metadata": {},
     "output_type": "execute_result"
    }
   ],
   "source": [
    "val filtered = data filter {\n",
    "    case a if ( ( a.length==14 && ! a.contains(\"cid\") )  || a.length>=15 ) => true\n",
    "    case _ => false\n",
    "}"
   ]
  },
  {
   "cell_type": "code",
   "execution_count": 207,
   "metadata": {},
   "outputs": [
    {
     "data": {
      "text/plain": [
       "res99: Int = 190\n"
      ]
     },
     "execution_count": 207,
     "metadata": {},
     "output_type": "execute_result"
    }
   ],
   "source": [
    "filtered.length"
   ]
  },
  {
   "cell_type": "markdown",
   "metadata": {},
   "source": [
    "# Part 2"
   ]
  },
  {
   "cell_type": "code",
   "execution_count": 328,
   "metadata": {},
   "outputs": [
    {
     "data": {
      "text/plain": [
       "to_dict: (x: Array[String])Map[String,String]\n"
      ]
     },
     "execution_count": 328,
     "metadata": {},
     "output_type": "execute_result"
    }
   ],
   "source": [
    "def to_dict(x: Array[String]): Map[String,String] = {\n",
    "    val slide = x.toList.sliding(2,2)\n",
    "    return slide.map(a => (a(0) -> a(1))).toMap\n",
    "}"
   ]
  },
  {
   "cell_type": "code",
   "execution_count": 331,
   "metadata": {},
   "outputs": [
    {
     "data": {
      "text/plain": [
       "data_dict: Array[Map[String,String]] = Array(Map(hgt -> 190, hcl -> a5ac0f, ecl -> #25f8d2, byr -> 2027, eyr -> 2039, cid -> 150, pid -> 476113241, iyr -> 1928), Map(hgt -> 168cm, hcl -> #fffffd, ecl -> hzl, byr -> 1929, eyr -> 2026, cid -> 169, pid -> 920076943, iyr -> 2013), Map(hgt -> 156cm, hcl -> #6b5442, ecl -> brn, byr -> 1948, eyr -> 2023, pid -> 328412891, iyr -> 2011), Map(hgt -> 189cm, hcl -> #602927, ecl -> amb, byr -> 1950, eyr -> 2020, cid -> 279, pid -> 674907993, iyr -> 2019), Map(hgt -> 178cm, hcl -> #341e13, ecl -> hzl, byr -> 1976, eyr -> 2022, pid -> 473630095, iyr -> 2015), Map(hgt -> 163cm, hcl -> #866857, ecl -> blu, byr -> 1984, eyr -> 2023, pid -> 628113926, iyr -> 2020), Map(hgt -> 70in, hcl -> #866857, ecl -> amb, byr -> 1922, eyr -> 2030, pid -> 312508073, iy...\n"
      ]
     },
     "execution_count": 331,
     "metadata": {},
     "output_type": "execute_result"
    }
   ],
   "source": [
    "val data_dict = filtered.map(to_dict)"
   ]
  },
  {
   "cell_type": "code",
   "execution_count": 334,
   "metadata": {},
   "outputs": [
    {
     "data": {
      "text/plain": [
       "res181: String = 169cm\n"
      ]
     },
     "execution_count": 334,
     "metadata": {},
     "output_type": "execute_result"
    }
   ],
   "source": [
    "data_dict(10)(\"hgt\")"
   ]
  },
  {
   "cell_type": "code",
   "execution_count": 430,
   "metadata": {},
   "outputs": [
    {
     "data": {
      "text/plain": [
       "verify: (codes: Map[String,String])Boolean\n"
      ]
     },
     "execution_count": 430,
     "metadata": {},
     "output_type": "execute_result"
    }
   ],
   "source": [
    "def verify(codes: Map[String,String]): Boolean = {\n",
    "    \n",
    "    val byr = 1920 <= codes(\"byr\").toInt && codes(\"byr\").toInt <=2002\n",
    "\n",
    "    val iyr = 2010 <= codes(\"iyr\").toInt && codes(\"iyr\").toInt <= 2020\n",
    "\n",
    "    val eyr =  2020 <= codes(\"eyr\").toInt && codes(\"eyr\").toInt <= 2030\n",
    "\n",
    "    val hgt =  codes(\"hgt\") match {\n",
    "            case s if (s.takeRight(2) == \"cm\" && 150 <= s.dropRight(2).toInt && s.dropRight(2).toInt <=193  ) => true\n",
    "            case s if (s.takeRight(2) == \"in\" && 59 <= s.dropRight(2).toInt && s.dropRight(2).toInt <=76  ) => true\n",
    "            case _ => false\n",
    "        }\n",
    "\n",
    "    val hcl = codes(\"hcl\") match {\n",
    "            case s if (s(0) == '#' && s.length == 7) => true\n",
    "            case _ => false\n",
    "        }\n",
    "\n",
    "    val ecl = codes(\"ecl\") match {\n",
    "            case s if List(\"amb\",\"blu\",\"brn\",\"gry\",\"grn\",\"hzl\",\"oth\").contains(s) => true\n",
    "            case _ => false\n",
    "        }\n",
    "    \n",
    "    val pid = codes(\"pid\") match{\n",
    "            case s if s.length == 9 => true\n",
    "            case _ => false\n",
    "        }\n",
    "\n",
    "    return List(byr,iyr,eyr,hgt,hcl,ecl,pid).reduce(_&&_)\n",
    "}"
   ]
  },
  {
   "cell_type": "code",
   "execution_count": 431,
   "metadata": {},
   "outputs": [
    {
     "data": {
      "text/plain": [
       "res242: Int = 121\n"
      ]
     },
     "execution_count": 431,
     "metadata": {},
     "output_type": "execute_result"
    }
   ],
   "source": [
    "data_dict.filter(verify).length"
   ]
  },
  {
   "cell_type": "code",
   "execution_count": null,
   "metadata": {},
   "outputs": [],
   "source": []
  }
 ],
 "metadata": {
  "kernelspec": {
   "display_name": "spylon-kernel",
   "language": "scala",
   "name": "spylon-kernel"
  },
  "language_info": {
   "codemirror_mode": "text/x-scala",
   "file_extension": ".scala",
   "help_links": [
    {
     "text": "MetaKernel Magics",
     "url": "https://metakernel.readthedocs.io/en/latest/source/README.html"
    }
   ],
   "mimetype": "text/x-scala",
   "name": "scala",
   "pygments_lexer": "scala",
   "version": "0.4.1"
  }
 },
 "nbformat": 4,
 "nbformat_minor": 4
}
