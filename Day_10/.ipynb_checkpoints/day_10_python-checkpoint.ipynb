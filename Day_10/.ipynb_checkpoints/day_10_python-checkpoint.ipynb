{
 "cells": [
  {
   "cell_type": "code",
   "execution_count": 118,
   "metadata": {},
   "outputs": [],
   "source": [
    "input_list='''16\n",
    "10\n",
    "15\n",
    "5\n",
    "1\n",
    "11\n",
    "7\n",
    "19\n",
    "6\n",
    "12\n",
    "4'''"
   ]
  },
  {
   "cell_type": "code",
   "execution_count": 119,
   "metadata": {},
   "outputs": [],
   "source": [
    "input_list = '''28\n",
    "33\n",
    "18\n",
    "42\n",
    "31\n",
    "14\n",
    "46\n",
    "20\n",
    "48\n",
    "47\n",
    "24\n",
    "23\n",
    "49\n",
    "45\n",
    "19\n",
    "38\n",
    "39\n",
    "11\n",
    "1\n",
    "32\n",
    "25\n",
    "35\n",
    "8\n",
    "17\n",
    "7\n",
    "9\n",
    "4\n",
    "2\n",
    "34\n",
    "10\n",
    "3'''"
   ]
  },
  {
   "cell_type": "code",
   "execution_count": 120,
   "metadata": {},
   "outputs": [],
   "source": [
    "input_list = '''149\n",
    "87\n",
    "67\n",
    "45\n",
    "76\n",
    "29\n",
    "107\n",
    "88\n",
    "4\n",
    "11\n",
    "118\n",
    "160\n",
    "20\n",
    "115\n",
    "130\n",
    "91\n",
    "144\n",
    "152\n",
    "33\n",
    "94\n",
    "53\n",
    "148\n",
    "138\n",
    "47\n",
    "104\n",
    "121\n",
    "112\n",
    "116\n",
    "99\n",
    "105\n",
    "34\n",
    "14\n",
    "44\n",
    "137\n",
    "52\n",
    "2\n",
    "65\n",
    "141\n",
    "140\n",
    "86\n",
    "84\n",
    "81\n",
    "124\n",
    "62\n",
    "15\n",
    "68\n",
    "147\n",
    "27\n",
    "106\n",
    "28\n",
    "69\n",
    "163\n",
    "97\n",
    "111\n",
    "162\n",
    "17\n",
    "159\n",
    "122\n",
    "156\n",
    "127\n",
    "46\n",
    "35\n",
    "128\n",
    "123\n",
    "48\n",
    "38\n",
    "129\n",
    "161\n",
    "3\n",
    "24\n",
    "60\n",
    "58\n",
    "155\n",
    "22\n",
    "55\n",
    "75\n",
    "16\n",
    "8\n",
    "78\n",
    "134\n",
    "30\n",
    "61\n",
    "72\n",
    "54\n",
    "41\n",
    "1\n",
    "59\n",
    "101\n",
    "10\n",
    "85\n",
    "139\n",
    "9\n",
    "98\n",
    "21\n",
    "108\n",
    "117\n",
    "131\n",
    "66\n",
    "23\n",
    "77\n",
    "7\n",
    "100\n",
    "51'''"
   ]
  },
  {
   "cell_type": "code",
   "execution_count": 121,
   "metadata": {},
   "outputs": [],
   "source": [
    "data = [0]+sorted([int(i) for i in input_list.split('\\n')])\n",
    "data+=[data[-1]+3]"
   ]
  },
  {
   "cell_type": "markdown",
   "metadata": {},
   "source": [
    "# Part 1"
   ]
  },
  {
   "cell_type": "code",
   "execution_count": 122,
   "metadata": {},
   "outputs": [],
   "source": [
    "from collections import Counter"
   ]
  },
  {
   "cell_type": "code",
   "execution_count": 123,
   "metadata": {},
   "outputs": [],
   "source": [
    "n = Counter([j-i for i, j in zip(data[:-1], data[1:])])"
   ]
  },
  {
   "cell_type": "code",
   "execution_count": 124,
   "metadata": {},
   "outputs": [
    {
     "data": {
      "text/plain": [
       "2263"
      ]
     },
     "execution_count": 124,
     "metadata": {},
     "output_type": "execute_result"
    }
   ],
   "source": [
    "n[1]*n[3]"
   ]
  },
  {
   "cell_type": "markdown",
   "metadata": {},
   "source": [
    "# Part 2"
   ]
  },
  {
   "cell_type": "code",
   "execution_count": 128,
   "metadata": {},
   "outputs": [],
   "source": [
    "import functools"
   ]
  },
  {
   "cell_type": "code",
   "execution_count": 129,
   "metadata": {},
   "outputs": [],
   "source": [
    "@functools.lru_cache(maxsize=128)\n",
    "def count_arrangements(l,ind=0):\n",
    "    if ind==len(l)-1:\n",
    "        return 1\n",
    "    \n",
    "    else:\n",
    "        if ind<=len(l)-4:\n",
    "            if l[ind+3]-l[ind]<4:\n",
    "                return count_arrangements(l,ind+3)+count_arrangements(l,ind+2)+count_arrangements(l,ind+1)\n",
    "            elif l[ind+2]-l[ind]<3:\n",
    "                return count_arrangements(l,ind+2)+count_arrangements(l,ind+1)\n",
    "            else:\n",
    "                return count_arrangements(l,ind+1)\n",
    "            \n",
    "        if ind==len(l)-3:\n",
    "            if l[ind+2]-l[ind]<3:\n",
    "                return count_arrangements(l,ind+2)+count_arrangements(l,ind+1)\n",
    "            else:\n",
    "                return count_arrangements(l,ind+1)            \n",
    "\n",
    "        if ind==len(l)-2:\n",
    "            return count_arrangements(l,ind+1)    \n",
    "            \n",
    "#     else:\n",
    "#         if ind<len(l)-4:\n",
    "#             if l[ind+3]-l[ind]<4:\n",
    "#                 a = count_arrangements(l,ind+3)\n",
    "#             else: a=0\n",
    "                \n",
    "#         if ind<len(l)-3:\n",
    "#             if l[ind+3]-l[ind]<3:\n",
    "#                 b = count_arrangements(l,ind+2)\n",
    "#             else: b=0\n",
    "                \n",
    "#         if ind<len(l)-2:\n",
    "#             if l[ind+3]-l[ind]<2:\n",
    "#                 c = count_arrangements(l,ind+1)\n",
    "#             else: c=0\n",
    "                \n",
    "#         return a+b+c"
   ]
  },
  {
   "cell_type": "code",
   "execution_count": 135,
   "metadata": {},
   "outputs": [
    {
     "data": {
      "text/plain": [
       "396857386627072"
      ]
     },
     "execution_count": 135,
     "metadata": {},
     "output_type": "execute_result"
    }
   ],
   "source": [
    "count_arrangements(tuple(data))"
   ]
  },
  {
   "cell_type": "code",
   "execution_count": null,
   "metadata": {},
   "outputs": [],
   "source": []
  }
 ],
 "metadata": {
  "kernelspec": {
   "display_name": "Python 3",
   "language": "python",
   "name": "python3"
  },
  "language_info": {
   "codemirror_mode": {
    "name": "ipython",
    "version": 3
   },
   "file_extension": ".py",
   "mimetype": "text/x-python",
   "name": "python",
   "nbconvert_exporter": "python",
   "pygments_lexer": "ipython3",
   "version": "3.8.3"
  }
 },
 "nbformat": 4,
 "nbformat_minor": 4
}
