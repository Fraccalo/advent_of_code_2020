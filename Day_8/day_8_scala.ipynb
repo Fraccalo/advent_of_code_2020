{
 "cells": [
  {
   "cell_type": "code",
   "execution_count": 2,
   "metadata": {},
   "outputs": [
    {
     "data": {
      "text/plain": [
       "import scala.io.Source\n"
      ]
     },
     "execution_count": 2,
     "metadata": {},
     "output_type": "execute_result"
    }
   ],
   "source": [
    "import scala.io.Source"
   ]
  },
  {
   "cell_type": "code",
   "execution_count": 11,
   "metadata": {},
   "outputs": [
    {
     "data": {
      "text/plain": [
       "data_input: List[String] = List(acc +0, acc -11, acc -19, acc -18, jmp +356, nop +29, acc +22, jmp +619, jmp +97, acc -14, jmp +71, nop +54, nop +348, jmp +144, jmp +123, nop +27, acc +48, acc +3, acc +2, jmp +79, jmp +576, acc -7, acc +37, acc +37, jmp +478, acc +49, nop +600, acc +28, jmp +388, acc +6, jmp +232, acc -2, jmp +1, jmp +140, acc +36, acc -15, acc +21, acc +29, jmp +361, acc +4, acc -2, jmp +585, acc +44, acc -16, acc +42, acc -12, jmp +252, acc +0, acc +19, acc +7, acc +38, jmp +232, acc +14, acc +26, jmp +132, acc +46, acc -19, jmp +219, acc +45, acc -1, acc +23, jmp +376, acc +41, nop +2, jmp +55, acc +24, acc +43, acc -3, jmp -53, acc +2, acc +19, jmp +520, jmp +1, acc +9, acc -2, acc +40, jmp +284, acc +0, jmp +250, jmp +454, jmp +559, acc +22, nop +561, jmp +425, jmp...\n"
      ]
     },
     "execution_count": 11,
     "metadata": {},
     "output_type": "execute_result"
    }
   ],
   "source": [
    "val data_input = Source.fromFile(\"input_8.txt\").getLines.toList"
   ]
  },
  {
   "cell_type": "code",
   "execution_count": 182,
   "metadata": {},
   "outputs": [
    {
     "data": {
      "text/plain": [
       "data: List[(String, Int)] = List((acc,0), (acc,-11), (acc,-19), (acc,-18), (jmp,356), (nop,29), (acc,22), (jmp,619), (jmp,97), (acc,-14), (jmp,71), (nop,54), (nop,348), (jmp,144), (jmp,123), (nop,27), (acc,48), (acc,3), (acc,2), (jmp,79), (jmp,576), (acc,-7), (acc,37), (acc,37), (jmp,478), (acc,49), (nop,600), (acc,28), (jmp,388), (acc,6), (jmp,232), (acc,-2), (jmp,1), (jmp,140), (acc,36), (acc,-15), (acc,21), (acc,29), (jmp,361), (acc,4), (acc,-2), (jmp,585), (acc,44), (acc,-16), (acc,42), (acc,-12), (jmp,252), (acc,0), (acc,19), (acc,7), (acc,38), (jmp,232), (acc,14), (acc,26), (jmp,132), (acc,46), (acc,-19), (jmp,219), (acc,45), (acc,-1), (acc,23), (jmp,376), (acc,41), (nop,2), (jmp,55), (acc,24), (acc,43), (acc,-3), (jmp,-53), (acc,2), (acc,19), (jmp,520), (jmp,1), (acc,9), (acc,-2)...\n"
      ]
     },
     "execution_count": 182,
     "metadata": {},
     "output_type": "execute_result"
    }
   ],
   "source": [
    "val data = data_input.map(_.split(\"[ ]\")).map(a => (a(0),a(1).toInt))"
   ]
  },
  {
   "cell_type": "markdown",
   "metadata": {},
   "source": [
    "# Part 1"
   ]
  },
  {
   "cell_type": "code",
   "execution_count": 200,
   "metadata": {},
   "outputs": [
    {
     "data": {
      "text/plain": [
       "navigate: (instructions: List[(String, Int)], acc: Int, ind: List[Int])Int\n"
      ]
     },
     "execution_count": 200,
     "metadata": {},
     "output_type": "execute_result"
    }
   ],
   "source": [
    "def navigate(instructions: List[(String,Int)], acc: Int = 0, ind: List[Int] = List(0)): Int = ind match {\n",
    "    case i if (i.length != i.toSet.size) => acc\n",
    "    case i if (instructions(i(-1))._1==\"acc\") => navigate(instructions, acc + instructions(i(-1))._2, i++List(i(-1)+1))\n",
    "    case i if (instructions(i(-1))._1==\"jmp\") => navigate(instructions, acc, ind++List(i(-1)+instructions(i(-1))._2))\n",
    "    case _ => navigate(instructions, acc, ind++List(ind(-1)+1))\n",
    "}\n"
   ]
  },
  {
   "cell_type": "code",
   "execution_count": 201,
   "metadata": {},
   "outputs": [
    {
     "ename": "java.lang.IndexOutOfBoundsException",
     "evalue": " -1",
     "output_type": "error",
     "traceback": [
      "java.lang.IndexOutOfBoundsException: -1",
      "  at scala.collection.LinearSeqOptimized.apply(LinearSeqOptimized.scala:67)",
      "  at scala.collection.LinearSeqOptimized.apply$(LinearSeqOptimized.scala:65)",
      "  at scala.collection.immutable.List.apply(List.scala:89)",
      "  at navigate(<console>:31)",
      "  ... 37 elided",
      ""
     ]
    }
   ],
   "source": [
    "navigate(data)"
   ]
  },
  {
   "cell_type": "code",
   "execution_count": 103,
   "metadata": {},
   "outputs": [
    {
     "data": {
      "text/plain": [
       "res23: Int = 3\n"
      ]
     },
     "execution_count": 103,
     "metadata": {},
     "output_type": "execute_result"
    }
   ],
   "source": [
    "List(List(2),List(1),List(3)).toSet.size"
   ]
  },
  {
   "cell_type": "code",
   "execution_count": null,
   "metadata": {},
   "outputs": [],
   "source": [
    "@annotation.tailrec\n",
    "def power(x: Int, n: Int, t: Int = 1): Int = {\n",
    "    if (n < 1) t\n",
    "    else power(x, n-1, x*t)\n",
    "}"
   ]
  },
  {
   "cell_type": "code",
   "execution_count": null,
   "metadata": {},
   "outputs": [],
   "source": [
    "response match {\n",
    "    case s if s != null => println(s\"Received '$s'\")\n",
    "    case s => println(\"Error! Received a null response\")\n",
    "}"
   ]
  },
  {
   "cell_type": "markdown",
   "metadata": {
    "jupyter": {
     "source_hidden": true
    }
   },
   "source": [
    "# Part 2"
   ]
  },
  {
   "cell_type": "code",
   "execution_count": 37,
   "metadata": {},
   "outputs": [
    {
     "data": {
      "text/plain": [
       "res7: List[Int] = List(1, 2, 3, 4)\n"
      ]
     },
     "execution_count": 37,
     "metadata": {},
     "output_type": "execute_result"
    }
   ],
   "source": [
    "List(1,2)++List(3,4)"
   ]
  },
  {
   "cell_type": "code",
   "execution_count": null,
   "metadata": {},
   "outputs": [],
   "source": []
  },
  {
   "cell_type": "code",
   "execution_count": null,
   "metadata": {},
   "outputs": [],
   "source": []
  }
 ],
 "metadata": {
  "kernelspec": {
   "display_name": "spylon-kernel",
   "language": "scala",
   "name": "spylon-kernel"
  },
  "language_info": {
   "codemirror_mode": "text/x-scala",
   "file_extension": ".scala",
   "help_links": [
    {
     "text": "MetaKernel Magics",
     "url": "https://metakernel.readthedocs.io/en/latest/source/README.html"
    }
   ],
   "mimetype": "text/x-scala",
   "name": "scala",
   "pygments_lexer": "scala",
   "version": "0.4.1"
  }
 },
 "nbformat": 4,
 "nbformat_minor": 4
}
