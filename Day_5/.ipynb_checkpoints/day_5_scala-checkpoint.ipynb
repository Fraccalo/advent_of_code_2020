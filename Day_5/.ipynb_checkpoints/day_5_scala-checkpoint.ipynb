{
 "cells": [
  {
   "cell_type": "code",
   "execution_count": 2,
   "metadata": {},
   "outputs": [
    {
     "data": {
      "text/plain": [
       "import scala.io.Source\n"
      ]
     },
     "execution_count": 2,
     "metadata": {},
     "output_type": "execute_result"
    }
   ],
   "source": [
    "import scala.io.Source"
   ]
  },
  {
   "cell_type": "code",
   "execution_count": 4,
   "metadata": {},
   "outputs": [
    {
     "data": {
      "text/plain": [
       "data: List[String] = List(FBBBBBBRRL, BBFFFBBLRL, FBFFBFFLRL, FFBBBFBLRR, FFBFBFFLLL, BFBBBBFLLL, FFBFFFFLLR, FBBFBFBLRR, BBBFFFFRRR, BFBFFFBLLR, BFFBBFBLLL, FBBFFBFLRL, FBBBFBFRLR, BFBBBBBRRL, BBFFBBFLLR, FFBBBFBRRL, FFBBFFBLLL, BFFFFBFLLR, FBBFBBBLRR, FBBBFFFRRR, BFBFFFFLRL, BBFFFBBLRR, FBFBBFBLRR, FBBBBBFLLR, FFBBBFBRRR, BBBFFBBLLL, FFFBBBBLLR, FBBFBBFLLL, FBFFBFFRLL, BFBBFBFLLL, FFBBBBFRLR, BFBBFFBLLL, FFBFFBFLLR, BFBBBBFRLL, BBBBFFFRLR, FBFFFBBRRR, BBBFFBFRLR, BBFBFBFLRL, FBBBBBBRLR, FBBFFFBRRL, BBFBFBBLLL, BBFBFBFLLL, BBFBBBBRRL, BBBFFBFRRL, FBFBBBBLLR, BFFBFFFLLR, FBBBBFFRRR, BBFBFBFRLR, BFFFBBFLLR, BFBFFBFRLL, FFBFFFBRLL, BFFFFFBLRL, BFBFBFBLLR, BBFBBBBLLR, BFFBFBBRRL, FBFBBFBRRR, FBBBFBFRRR, FBFFFBBLLL, FBBFFFFLRL, FFBFFBBLLL, BFBBBFBRLL, BBBBFBFRRL, FFBBFFBRRR, FFFBBBFRRR, FFB...\n"
      ]
     },
     "execution_count": 4,
     "metadata": {},
     "output_type": "execute_result"
    }
   ],
   "source": [
    "val data = Source.fromFile(\"input_5.txt\").getLines.toList"
   ]
  },
  {
   "cell_type": "markdown",
   "metadata": {},
   "source": [
    "# Part 1"
   ]
  },
  {
   "cell_type": "code",
   "execution_count": 35,
   "metadata": {},
   "outputs": [
    {
     "data": {
      "text/plain": [
       "find_row: (s: String, min: Int, max: Int)Int\n"
      ]
     },
     "execution_count": 35,
     "metadata": {},
     "output_type": "execute_result"
    }
   ],
   "source": [
    "def find_row(s: String, min: Int = 0, max: Int = 127): Int = {\n",
    "    \n",
    "    if (s.length==3) return min\n",
    "    \n",
    "    if (s(0)=='F') find_row(s.drop(1),min,min+(max-min)/2)\n",
    "    \n",
    "    else find_row(s.drop(1),1+min+(max-min)/2,max)\n",
    "    \n",
    "}"
   ]
  },
  {
   "cell_type": "code",
   "execution_count": 36,
   "metadata": {},
   "outputs": [
    {
     "data": {
      "text/plain": [
       "res19: Int = 63\n"
      ]
     },
     "execution_count": 36,
     "metadata": {},
     "output_type": "execute_result"
    }
   ],
   "source": [
    "find_row(data(0))"
   ]
  },
  {
   "cell_type": "code",
   "execution_count": 43,
   "metadata": {},
   "outputs": [
    {
     "data": {
      "text/plain": [
       "find_col: (s: String, min: Int, max: Int)Int\n"
      ]
     },
     "execution_count": 43,
     "metadata": {},
     "output_type": "execute_result"
    }
   ],
   "source": [
    "def find_col(s: String, min: Int = 0, max: Int = 7): Int = {\n",
    "    \n",
    "    if (s.length==0) return min\n",
    "    \n",
    "    if (s(0)=='L') find_col(s.drop(1),min,min+(max-min)/2)\n",
    "    \n",
    "    else find_col(s.drop(1),1+min+(max-min)/2,max)\n",
    "    \n",
    "}"
   ]
  },
  {
   "cell_type": "code",
   "execution_count": 44,
   "metadata": {},
   "outputs": [
    {
     "data": {
      "text/plain": [
       "res24: Int = 6\n"
      ]
     },
     "execution_count": 44,
     "metadata": {},
     "output_type": "execute_result"
    }
   ],
   "source": [
    "find_col(data(0).drop(7))"
   ]
  },
  {
   "cell_type": "code",
   "execution_count": 46,
   "metadata": {},
   "outputs": [
    {
     "data": {
      "text/plain": [
       "ID: (ticket: String)Int\n"
      ]
     },
     "execution_count": 46,
     "metadata": {},
     "output_type": "execute_result"
    }
   ],
   "source": [
    "def ID(ticket: String): Int = {\n",
    "    8 * find_row(ticket)+find_col(ticket.drop(7))\n",
    "}"
   ]
  },
  {
   "cell_type": "code",
   "execution_count": 47,
   "metadata": {},
   "outputs": [
    {
     "data": {
      "text/plain": [
       "res26: Int = 510\n"
      ]
     },
     "execution_count": 47,
     "metadata": {},
     "output_type": "execute_result"
    }
   ],
   "source": [
    "ID(data(0))"
   ]
  },
  {
   "cell_type": "code",
   "execution_count": 49,
   "metadata": {},
   "outputs": [
    {
     "data": {
      "text/plain": [
       "res28: Int = 987\n"
      ]
     },
     "execution_count": 49,
     "metadata": {},
     "output_type": "execute_result"
    }
   ],
   "source": [
    "data.map(ID).max"
   ]
  },
  {
   "cell_type": "markdown",
   "metadata": {},
   "source": [
    "# Part 2"
   ]
  },
  {
   "cell_type": "code",
   "execution_count": 51,
   "metadata": {},
   "outputs": [
    {
     "data": {
      "text/plain": [
       "ordered: List[Int] = List(96, 97, 98, 99, 100, 101, 102, 103, 104, 105, 106, 107, 108, 109, 110, 111, 112, 113, 114, 115, 116, 117, 118, 119, 120, 121, 122, 123, 124, 125, 126, 127, 128, 129, 130, 131, 132, 133, 134, 135, 136, 137, 138, 139, 140, 141, 142, 143, 144, 145, 146, 147, 148, 149, 150, 151, 152, 153, 154, 155, 156, 157, 158, 159, 160, 161, 162, 163, 164, 165, 166, 167, 168, 169, 170, 171, 172, 173, 174, 175, 176, 177, 178, 179, 180, 181, 182, 183, 184, 185, 186, 187, 188, 189, 190, 191, 192, 193, 194, 195, 196, 197, 198, 199, 200, 201, 202, 203, 204, 205, 206, 207, 208, 209, 210, 211, 212, 213, 214, 215, 216, 217, 218, 219, 220, 221, 222, 223, 224, 225, 226, 227, 228, 229, 230, 231, 232, 233, 234, 235, 236, 237, 238, 239, 240, 241, 242, 243, 244, 245, 246, 247, 248, 249, 250, ...\n"
      ]
     },
     "execution_count": 51,
     "metadata": {},
     "output_type": "execute_result"
    }
   ],
   "source": [
    "val ordered = data.map(ID).sorted"
   ]
  },
  {
   "cell_type": "code",
   "execution_count": 54,
   "metadata": {},
   "outputs": [
    {
     "data": {
      "text/plain": [
       "res31: scala.collection.immutable.Range = Range 96 until 987\n"
      ]
     },
     "execution_count": 54,
     "metadata": {},
     "output_type": "execute_result"
    }
   ],
   "source": [
    "Range(ordered(0),ordered(0)+ordered.length)"
   ]
  },
  {
   "cell_type": "code",
   "execution_count": 59,
   "metadata": {},
   "outputs": [
    {
     "data": {
      "text/plain": [
       "zipped: List[(Int, Int)] = List((96,96), (97,97), (98,98), (99,99), (100,100), (101,101), (102,102), (103,103), (104,104), (105,105), (106,106), (107,107), (108,108), (109,109), (110,110), (111,111), (112,112), (113,113), (114,114), (115,115), (116,116), (117,117), (118,118), (119,119), (120,120), (121,121), (122,122), (123,123), (124,124), (125,125), (126,126), (127,127), (128,128), (129,129), (130,130), (131,131), (132,132), (133,133), (134,134), (135,135), (136,136), (137,137), (138,138), (139,139), (140,140), (141,141), (142,142), (143,143), (144,144), (145,145), (146,146), (147,147), (148,148), (149,149), (150,150), (151,151), (152,152), (153,153), (154,154), (155,155), (156,156), (157,157), (158,158), (159,159), (160,160), (161,161), (162,162), (163,163), (164,164), (165,165), (16...\n"
      ]
     },
     "execution_count": 59,
     "metadata": {},
     "output_type": "execute_result"
    }
   ],
   "source": [
    "val zipped = ordered.zip(Range(ordered(0),ordered(0)+ordered.length))"
   ]
  },
  {
   "cell_type": "code",
   "execution_count": 70,
   "metadata": {},
   "outputs": [
    {
     "data": {
      "text/plain": [
       "a: Int = 604\n",
       "b: Int = 603\n"
      ]
     },
     "execution_count": 70,
     "metadata": {},
     "output_type": "execute_result"
    }
   ],
   "source": [
    "val (a,b) = zipped.filter {\n",
    "    case (a,b) if a!=b => true\n",
    "    case _ => false\n",
    "}(0)"
   ]
  },
  {
   "cell_type": "code",
   "execution_count": 71,
   "metadata": {},
   "outputs": [
    {
     "data": {
      "text/plain": [
       "res41: Int = 603\n"
      ]
     },
     "execution_count": 71,
     "metadata": {},
     "output_type": "execute_result"
    }
   ],
   "source": [
    "b"
   ]
  },
  {
   "cell_type": "code",
   "execution_count": null,
   "metadata": {},
   "outputs": [],
   "source": []
  }
 ],
 "metadata": {
  "kernelspec": {
   "display_name": "spylon-kernel",
   "language": "scala",
   "name": "spylon-kernel"
  },
  "language_info": {
   "codemirror_mode": "text/x-scala",
   "file_extension": ".scala",
   "help_links": [
    {
     "text": "MetaKernel Magics",
     "url": "https://metakernel.readthedocs.io/en/latest/source/README.html"
    }
   ],
   "mimetype": "text/x-scala",
   "name": "scala",
   "pygments_lexer": "scala",
   "version": "0.4.1"
  }
 },
 "nbformat": 4,
 "nbformat_minor": 4
}
